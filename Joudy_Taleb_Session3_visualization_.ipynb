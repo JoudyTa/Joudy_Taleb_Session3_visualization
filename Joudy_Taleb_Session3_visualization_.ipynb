{
  "nbformat": 4,
  "nbformat_minor": 0,
  "metadata": {
    "colab": {
      "provenance": [],
      "include_colab_link": true
    },
    "kernelspec": {
      "name": "python3",
      "display_name": "Python 3"
    },
    "language_info": {
      "name": "python"
    }
  },
  "cells": [
    {
      "cell_type": "markdown",
      "metadata": {
        "id": "view-in-github",
        "colab_type": "text"
      },
      "source": [
        "<a href=\"https://colab.research.google.com/github/JoudyTa/Joudy_Taleb_Session3_visualization/blob/master/Joudy_Taleb_Session3_visualization_.ipynb\" target=\"_parent\"><img src=\"https://colab.research.google.com/assets/colab-badge.svg\" alt=\"Open In Colab\"/></a>"
      ]
    },
    {
      "cell_type": "code",
      "source": [
        "import pandas as pd\n",
        "import numpy as np"
      ],
      "metadata": {
        "id": "fzyVubJY7Mll"
      },
      "execution_count": null,
      "outputs": []
    },
    {
      "cell_type": "code",
      "source": [
        "\n",
        "#1.Find the shape of the data,data type of individual columns# Lets do some Data Wrangling\n",
        "#Basic EDA\n",
        "\n",
        "#1.Find the shape of the data,data type of individual columns\n",
        "\n",
        "#2.Check the presence of missing values (nulls)\n",
        "\n",
        "#3.Descriptive stats of numerical columns\n",
        "\n",
        "#4.Find the distribution of numerical columns and the asssociated skeweness and presence of outliers\n",
        "\n",
        "#5.Distribution of categorical columns"
      ],
      "metadata": {
        "id": "Z0jdZa5v_Bq7"
      },
      "execution_count": null,
      "outputs": []
    },
    {
      "cell_type": "code",
      "source": [
        "from google.colab import drive\n",
        "drive.mount('/content/drive')"
      ],
      "metadata": {
        "id": "QVpDPOLnkjT2",
        "colab": {
          "base_uri": "https://localhost:8080/"
        },
        "outputId": "1816312f-aa23-4e5a-e9f6-a09a08ce6356"
      },
      "execution_count": null,
      "outputs": [
        {
          "output_type": "stream",
          "name": "stdout",
          "text": [
            "Drive already mounted at /content/drive; to attempt to forcibly remount, call drive.mount(\"/content/drive\", force_remount=True).\n"
          ]
        }
      ]
    },
    {
      "cell_type": "code",
      "execution_count": null,
      "metadata": {
        "id": "i1ZgNWzA5o4Q"
      },
      "outputs": [],
      "source": [
        "# Read the Dataset\n",
        "df=pd.read_csv('/content/top50.csv',encoding=('ISO-8859-1'))\n",
        "df=pd.DataFrame(df)"
      ]
    },
    {
      "cell_type": "code",
      "source": [
        "df.head(5)"
      ],
      "metadata": {
        "colab": {
          "base_uri": "https://localhost:8080/",
          "height": 426
        },
        "id": "hq7TJI9i7Wal",
        "outputId": "03eb9e9e-a276-4a48-adaf-a29a6f5e3618"
      },
      "execution_count": null,
      "outputs": [
        {
          "output_type": "execute_result",
          "data": {
            "text/plain": [
              "   Unnamed: 0                       Track.Name    Artist.Name           Genre  \\\n",
              "0           1                         Señorita   Shawn Mendes    canadian pop   \n",
              "1           2                            China       Anuel AA  reggaeton flow   \n",
              "2           3    boyfriend (with Social House)  Ariana Grande       dance pop   \n",
              "3           4  Beautiful People (feat. Khalid)     Ed Sheeran             pop   \n",
              "4           5      Goodbyes (Feat. Young Thug)    Post Malone         dfw rap   \n",
              "\n",
              "   Beats.Per.Minute  Energy  Danceability  Loudness..dB..  Liveness  Valence.  \\\n",
              "0               117      55            76              -6         8        75   \n",
              "1               105      81            79              -4         8        61   \n",
              "2               190      80            40              -4        16        70   \n",
              "3                93      65            64              -8         8        55   \n",
              "4               150      65            58              -4        11        18   \n",
              "\n",
              "   Length.  Acousticness..  Speechiness.  Popularity  \n",
              "0      191               4             3          79  \n",
              "1      302               8             9          92  \n",
              "2      186              12            46          85  \n",
              "3      198              12            19          86  \n",
              "4      175              45             7          94  "
            ],
            "text/html": [
              "\n",
              "  <div id=\"df-8f7a5ba7-1206-459d-8169-554924bd1dfc\">\n",
              "    <div class=\"colab-df-container\">\n",
              "      <div>\n",
              "<style scoped>\n",
              "    .dataframe tbody tr th:only-of-type {\n",
              "        vertical-align: middle;\n",
              "    }\n",
              "\n",
              "    .dataframe tbody tr th {\n",
              "        vertical-align: top;\n",
              "    }\n",
              "\n",
              "    .dataframe thead th {\n",
              "        text-align: right;\n",
              "    }\n",
              "</style>\n",
              "<table border=\"1\" class=\"dataframe\">\n",
              "  <thead>\n",
              "    <tr style=\"text-align: right;\">\n",
              "      <th></th>\n",
              "      <th>Unnamed: 0</th>\n",
              "      <th>Track.Name</th>\n",
              "      <th>Artist.Name</th>\n",
              "      <th>Genre</th>\n",
              "      <th>Beats.Per.Minute</th>\n",
              "      <th>Energy</th>\n",
              "      <th>Danceability</th>\n",
              "      <th>Loudness..dB..</th>\n",
              "      <th>Liveness</th>\n",
              "      <th>Valence.</th>\n",
              "      <th>Length.</th>\n",
              "      <th>Acousticness..</th>\n",
              "      <th>Speechiness.</th>\n",
              "      <th>Popularity</th>\n",
              "    </tr>\n",
              "  </thead>\n",
              "  <tbody>\n",
              "    <tr>\n",
              "      <th>0</th>\n",
              "      <td>1</td>\n",
              "      <td>Señorita</td>\n",
              "      <td>Shawn Mendes</td>\n",
              "      <td>canadian pop</td>\n",
              "      <td>117</td>\n",
              "      <td>55</td>\n",
              "      <td>76</td>\n",
              "      <td>-6</td>\n",
              "      <td>8</td>\n",
              "      <td>75</td>\n",
              "      <td>191</td>\n",
              "      <td>4</td>\n",
              "      <td>3</td>\n",
              "      <td>79</td>\n",
              "    </tr>\n",
              "    <tr>\n",
              "      <th>1</th>\n",
              "      <td>2</td>\n",
              "      <td>China</td>\n",
              "      <td>Anuel AA</td>\n",
              "      <td>reggaeton flow</td>\n",
              "      <td>105</td>\n",
              "      <td>81</td>\n",
              "      <td>79</td>\n",
              "      <td>-4</td>\n",
              "      <td>8</td>\n",
              "      <td>61</td>\n",
              "      <td>302</td>\n",
              "      <td>8</td>\n",
              "      <td>9</td>\n",
              "      <td>92</td>\n",
              "    </tr>\n",
              "    <tr>\n",
              "      <th>2</th>\n",
              "      <td>3</td>\n",
              "      <td>boyfriend (with Social House)</td>\n",
              "      <td>Ariana Grande</td>\n",
              "      <td>dance pop</td>\n",
              "      <td>190</td>\n",
              "      <td>80</td>\n",
              "      <td>40</td>\n",
              "      <td>-4</td>\n",
              "      <td>16</td>\n",
              "      <td>70</td>\n",
              "      <td>186</td>\n",
              "      <td>12</td>\n",
              "      <td>46</td>\n",
              "      <td>85</td>\n",
              "    </tr>\n",
              "    <tr>\n",
              "      <th>3</th>\n",
              "      <td>4</td>\n",
              "      <td>Beautiful People (feat. Khalid)</td>\n",
              "      <td>Ed Sheeran</td>\n",
              "      <td>pop</td>\n",
              "      <td>93</td>\n",
              "      <td>65</td>\n",
              "      <td>64</td>\n",
              "      <td>-8</td>\n",
              "      <td>8</td>\n",
              "      <td>55</td>\n",
              "      <td>198</td>\n",
              "      <td>12</td>\n",
              "      <td>19</td>\n",
              "      <td>86</td>\n",
              "    </tr>\n",
              "    <tr>\n",
              "      <th>4</th>\n",
              "      <td>5</td>\n",
              "      <td>Goodbyes (Feat. Young Thug)</td>\n",
              "      <td>Post Malone</td>\n",
              "      <td>dfw rap</td>\n",
              "      <td>150</td>\n",
              "      <td>65</td>\n",
              "      <td>58</td>\n",
              "      <td>-4</td>\n",
              "      <td>11</td>\n",
              "      <td>18</td>\n",
              "      <td>175</td>\n",
              "      <td>45</td>\n",
              "      <td>7</td>\n",
              "      <td>94</td>\n",
              "    </tr>\n",
              "  </tbody>\n",
              "</table>\n",
              "</div>\n",
              "      <button class=\"colab-df-convert\" onclick=\"convertToInteractive('df-8f7a5ba7-1206-459d-8169-554924bd1dfc')\"\n",
              "              title=\"Convert this dataframe to an interactive table.\"\n",
              "              style=\"display:none;\">\n",
              "        \n",
              "  <svg xmlns=\"http://www.w3.org/2000/svg\" height=\"24px\"viewBox=\"0 0 24 24\"\n",
              "       width=\"24px\">\n",
              "    <path d=\"M0 0h24v24H0V0z\" fill=\"none\"/>\n",
              "    <path d=\"M18.56 5.44l.94 2.06.94-2.06 2.06-.94-2.06-.94-.94-2.06-.94 2.06-2.06.94zm-11 1L8.5 8.5l.94-2.06 2.06-.94-2.06-.94L8.5 2.5l-.94 2.06-2.06.94zm10 10l.94 2.06.94-2.06 2.06-.94-2.06-.94-.94-2.06-.94 2.06-2.06.94z\"/><path d=\"M17.41 7.96l-1.37-1.37c-.4-.4-.92-.59-1.43-.59-.52 0-1.04.2-1.43.59L10.3 9.45l-7.72 7.72c-.78.78-.78 2.05 0 2.83L4 21.41c.39.39.9.59 1.41.59.51 0 1.02-.2 1.41-.59l7.78-7.78 2.81-2.81c.8-.78.8-2.07 0-2.86zM5.41 20L4 18.59l7.72-7.72 1.47 1.35L5.41 20z\"/>\n",
              "  </svg>\n",
              "      </button>\n",
              "      \n",
              "  <style>\n",
              "    .colab-df-container {\n",
              "      display:flex;\n",
              "      flex-wrap:wrap;\n",
              "      gap: 12px;\n",
              "    }\n",
              "\n",
              "    .colab-df-convert {\n",
              "      background-color: #E8F0FE;\n",
              "      border: none;\n",
              "      border-radius: 50%;\n",
              "      cursor: pointer;\n",
              "      display: none;\n",
              "      fill: #1967D2;\n",
              "      height: 32px;\n",
              "      padding: 0 0 0 0;\n",
              "      width: 32px;\n",
              "    }\n",
              "\n",
              "    .colab-df-convert:hover {\n",
              "      background-color: #E2EBFA;\n",
              "      box-shadow: 0px 1px 2px rgba(60, 64, 67, 0.3), 0px 1px 3px 1px rgba(60, 64, 67, 0.15);\n",
              "      fill: #174EA6;\n",
              "    }\n",
              "\n",
              "    [theme=dark] .colab-df-convert {\n",
              "      background-color: #3B4455;\n",
              "      fill: #D2E3FC;\n",
              "    }\n",
              "\n",
              "    [theme=dark] .colab-df-convert:hover {\n",
              "      background-color: #434B5C;\n",
              "      box-shadow: 0px 1px 3px 1px rgba(0, 0, 0, 0.15);\n",
              "      filter: drop-shadow(0px 1px 2px rgba(0, 0, 0, 0.3));\n",
              "      fill: #FFFFFF;\n",
              "    }\n",
              "  </style>\n",
              "\n",
              "      <script>\n",
              "        const buttonEl =\n",
              "          document.querySelector('#df-8f7a5ba7-1206-459d-8169-554924bd1dfc button.colab-df-convert');\n",
              "        buttonEl.style.display =\n",
              "          google.colab.kernel.accessAllowed ? 'block' : 'none';\n",
              "\n",
              "        async function convertToInteractive(key) {\n",
              "          const element = document.querySelector('#df-8f7a5ba7-1206-459d-8169-554924bd1dfc');\n",
              "          const dataTable =\n",
              "            await google.colab.kernel.invokeFunction('convertToInteractive',\n",
              "                                                     [key], {});\n",
              "          if (!dataTable) return;\n",
              "\n",
              "          const docLinkHtml = 'Like what you see? Visit the ' +\n",
              "            '<a target=\"_blank\" href=https://colab.research.google.com/notebooks/data_table.ipynb>data table notebook</a>'\n",
              "            + ' to learn more about interactive tables.';\n",
              "          element.innerHTML = '';\n",
              "          dataTable['output_type'] = 'display_data';\n",
              "          await google.colab.output.renderOutput(dataTable, element);\n",
              "          const docLink = document.createElement('div');\n",
              "          docLink.innerHTML = docLinkHtml;\n",
              "          element.appendChild(docLink);\n",
              "        }\n",
              "      </script>\n",
              "    </div>\n",
              "  </div>\n",
              "  "
            ]
          },
          "metadata": {},
          "execution_count": 48
        }
      ]
    },
    {
      "cell_type": "code",
      "source": [
        "df.tail(5)"
      ],
      "metadata": {
        "colab": {
          "base_uri": "https://localhost:8080/",
          "height": 374
        },
        "id": "aVHSQih_7yY3",
        "outputId": "93d8b733-d332-4b89-ff87-f879bd2c8b18"
      },
      "execution_count": null,
      "outputs": [
        {
          "output_type": "execute_result",
          "data": {
            "text/plain": [
              "    Unnamed: 0                                     Track.Name  \\\n",
              "45          46                                One Thing Right   \n",
              "46          47                                      Te Robaré   \n",
              "47          48                                        Happier   \n",
              "48          49                                  Call You Mine   \n",
              "49          50  Cross Me (feat. Chance the Rapper & PnB Rock)   \n",
              "\n",
              "         Artist.Name    Genre  Beats.Per.Minute  Energy  Danceability  \\\n",
              "45        Marshmello  brostep                88      62            66   \n",
              "46         Nicky Jam    latin               176      75            67   \n",
              "47        Marshmello  brostep               100      79            69   \n",
              "48  The Chainsmokers      edm               104      70            59   \n",
              "49        Ed Sheeran      pop                95      79            75   \n",
              "\n",
              "    Loudness..dB..  Liveness  Valence.  Length.  Acousticness..  Speechiness.  \\\n",
              "45              -2        58        44      182               7             5   \n",
              "46              -4         8        80      202              24             6   \n",
              "47              -3        17        67      214              19             5   \n",
              "48              -6        41        50      218              23             3   \n",
              "49              -6         7        61      206              21            12   \n",
              "\n",
              "    Popularity  \n",
              "45          88  \n",
              "46          88  \n",
              "47          88  \n",
              "48          88  \n",
              "49          82  "
            ],
            "text/html": [
              "\n",
              "  <div id=\"df-e48ecb71-c3d0-45bc-8ff0-3b97d60f6961\">\n",
              "    <div class=\"colab-df-container\">\n",
              "      <div>\n",
              "<style scoped>\n",
              "    .dataframe tbody tr th:only-of-type {\n",
              "        vertical-align: middle;\n",
              "    }\n",
              "\n",
              "    .dataframe tbody tr th {\n",
              "        vertical-align: top;\n",
              "    }\n",
              "\n",
              "    .dataframe thead th {\n",
              "        text-align: right;\n",
              "    }\n",
              "</style>\n",
              "<table border=\"1\" class=\"dataframe\">\n",
              "  <thead>\n",
              "    <tr style=\"text-align: right;\">\n",
              "      <th></th>\n",
              "      <th>Unnamed: 0</th>\n",
              "      <th>Track.Name</th>\n",
              "      <th>Artist.Name</th>\n",
              "      <th>Genre</th>\n",
              "      <th>Beats.Per.Minute</th>\n",
              "      <th>Energy</th>\n",
              "      <th>Danceability</th>\n",
              "      <th>Loudness..dB..</th>\n",
              "      <th>Liveness</th>\n",
              "      <th>Valence.</th>\n",
              "      <th>Length.</th>\n",
              "      <th>Acousticness..</th>\n",
              "      <th>Speechiness.</th>\n",
              "      <th>Popularity</th>\n",
              "    </tr>\n",
              "  </thead>\n",
              "  <tbody>\n",
              "    <tr>\n",
              "      <th>45</th>\n",
              "      <td>46</td>\n",
              "      <td>One Thing Right</td>\n",
              "      <td>Marshmello</td>\n",
              "      <td>brostep</td>\n",
              "      <td>88</td>\n",
              "      <td>62</td>\n",
              "      <td>66</td>\n",
              "      <td>-2</td>\n",
              "      <td>58</td>\n",
              "      <td>44</td>\n",
              "      <td>182</td>\n",
              "      <td>7</td>\n",
              "      <td>5</td>\n",
              "      <td>88</td>\n",
              "    </tr>\n",
              "    <tr>\n",
              "      <th>46</th>\n",
              "      <td>47</td>\n",
              "      <td>Te Robaré</td>\n",
              "      <td>Nicky Jam</td>\n",
              "      <td>latin</td>\n",
              "      <td>176</td>\n",
              "      <td>75</td>\n",
              "      <td>67</td>\n",
              "      <td>-4</td>\n",
              "      <td>8</td>\n",
              "      <td>80</td>\n",
              "      <td>202</td>\n",
              "      <td>24</td>\n",
              "      <td>6</td>\n",
              "      <td>88</td>\n",
              "    </tr>\n",
              "    <tr>\n",
              "      <th>47</th>\n",
              "      <td>48</td>\n",
              "      <td>Happier</td>\n",
              "      <td>Marshmello</td>\n",
              "      <td>brostep</td>\n",
              "      <td>100</td>\n",
              "      <td>79</td>\n",
              "      <td>69</td>\n",
              "      <td>-3</td>\n",
              "      <td>17</td>\n",
              "      <td>67</td>\n",
              "      <td>214</td>\n",
              "      <td>19</td>\n",
              "      <td>5</td>\n",
              "      <td>88</td>\n",
              "    </tr>\n",
              "    <tr>\n",
              "      <th>48</th>\n",
              "      <td>49</td>\n",
              "      <td>Call You Mine</td>\n",
              "      <td>The Chainsmokers</td>\n",
              "      <td>edm</td>\n",
              "      <td>104</td>\n",
              "      <td>70</td>\n",
              "      <td>59</td>\n",
              "      <td>-6</td>\n",
              "      <td>41</td>\n",
              "      <td>50</td>\n",
              "      <td>218</td>\n",
              "      <td>23</td>\n",
              "      <td>3</td>\n",
              "      <td>88</td>\n",
              "    </tr>\n",
              "    <tr>\n",
              "      <th>49</th>\n",
              "      <td>50</td>\n",
              "      <td>Cross Me (feat. Chance the Rapper &amp; PnB Rock)</td>\n",
              "      <td>Ed Sheeran</td>\n",
              "      <td>pop</td>\n",
              "      <td>95</td>\n",
              "      <td>79</td>\n",
              "      <td>75</td>\n",
              "      <td>-6</td>\n",
              "      <td>7</td>\n",
              "      <td>61</td>\n",
              "      <td>206</td>\n",
              "      <td>21</td>\n",
              "      <td>12</td>\n",
              "      <td>82</td>\n",
              "    </tr>\n",
              "  </tbody>\n",
              "</table>\n",
              "</div>\n",
              "      <button class=\"colab-df-convert\" onclick=\"convertToInteractive('df-e48ecb71-c3d0-45bc-8ff0-3b97d60f6961')\"\n",
              "              title=\"Convert this dataframe to an interactive table.\"\n",
              "              style=\"display:none;\">\n",
              "        \n",
              "  <svg xmlns=\"http://www.w3.org/2000/svg\" height=\"24px\"viewBox=\"0 0 24 24\"\n",
              "       width=\"24px\">\n",
              "    <path d=\"M0 0h24v24H0V0z\" fill=\"none\"/>\n",
              "    <path d=\"M18.56 5.44l.94 2.06.94-2.06 2.06-.94-2.06-.94-.94-2.06-.94 2.06-2.06.94zm-11 1L8.5 8.5l.94-2.06 2.06-.94-2.06-.94L8.5 2.5l-.94 2.06-2.06.94zm10 10l.94 2.06.94-2.06 2.06-.94-2.06-.94-.94-2.06-.94 2.06-2.06.94z\"/><path d=\"M17.41 7.96l-1.37-1.37c-.4-.4-.92-.59-1.43-.59-.52 0-1.04.2-1.43.59L10.3 9.45l-7.72 7.72c-.78.78-.78 2.05 0 2.83L4 21.41c.39.39.9.59 1.41.59.51 0 1.02-.2 1.41-.59l7.78-7.78 2.81-2.81c.8-.78.8-2.07 0-2.86zM5.41 20L4 18.59l7.72-7.72 1.47 1.35L5.41 20z\"/>\n",
              "  </svg>\n",
              "      </button>\n",
              "      \n",
              "  <style>\n",
              "    .colab-df-container {\n",
              "      display:flex;\n",
              "      flex-wrap:wrap;\n",
              "      gap: 12px;\n",
              "    }\n",
              "\n",
              "    .colab-df-convert {\n",
              "      background-color: #E8F0FE;\n",
              "      border: none;\n",
              "      border-radius: 50%;\n",
              "      cursor: pointer;\n",
              "      display: none;\n",
              "      fill: #1967D2;\n",
              "      height: 32px;\n",
              "      padding: 0 0 0 0;\n",
              "      width: 32px;\n",
              "    }\n",
              "\n",
              "    .colab-df-convert:hover {\n",
              "      background-color: #E2EBFA;\n",
              "      box-shadow: 0px 1px 2px rgba(60, 64, 67, 0.3), 0px 1px 3px 1px rgba(60, 64, 67, 0.15);\n",
              "      fill: #174EA6;\n",
              "    }\n",
              "\n",
              "    [theme=dark] .colab-df-convert {\n",
              "      background-color: #3B4455;\n",
              "      fill: #D2E3FC;\n",
              "    }\n",
              "\n",
              "    [theme=dark] .colab-df-convert:hover {\n",
              "      background-color: #434B5C;\n",
              "      box-shadow: 0px 1px 3px 1px rgba(0, 0, 0, 0.15);\n",
              "      filter: drop-shadow(0px 1px 2px rgba(0, 0, 0, 0.3));\n",
              "      fill: #FFFFFF;\n",
              "    }\n",
              "  </style>\n",
              "\n",
              "      <script>\n",
              "        const buttonEl =\n",
              "          document.querySelector('#df-e48ecb71-c3d0-45bc-8ff0-3b97d60f6961 button.colab-df-convert');\n",
              "        buttonEl.style.display =\n",
              "          google.colab.kernel.accessAllowed ? 'block' : 'none';\n",
              "\n",
              "        async function convertToInteractive(key) {\n",
              "          const element = document.querySelector('#df-e48ecb71-c3d0-45bc-8ff0-3b97d60f6961');\n",
              "          const dataTable =\n",
              "            await google.colab.kernel.invokeFunction('convertToInteractive',\n",
              "                                                     [key], {});\n",
              "          if (!dataTable) return;\n",
              "\n",
              "          const docLinkHtml = 'Like what you see? Visit the ' +\n",
              "            '<a target=\"_blank\" href=https://colab.research.google.com/notebooks/data_table.ipynb>data table notebook</a>'\n",
              "            + ' to learn more about interactive tables.';\n",
              "          element.innerHTML = '';\n",
              "          dataTable['output_type'] = 'display_data';\n",
              "          await google.colab.output.renderOutput(dataTable, element);\n",
              "          const docLink = document.createElement('div');\n",
              "          docLink.innerHTML = docLinkHtml;\n",
              "          element.appendChild(docLink);\n",
              "        }\n",
              "      </script>\n",
              "    </div>\n",
              "  </div>\n",
              "  "
            ]
          },
          "metadata": {},
          "execution_count": 49
        }
      ]
    },
    {
      "cell_type": "code",
      "source": [
        "df.info()"
      ],
      "metadata": {
        "colab": {
          "base_uri": "https://localhost:8080/"
        },
        "id": "JBs0Ao75735G",
        "outputId": "5fe6b5f7-c1ae-43ca-9b87-0208b374497b"
      },
      "execution_count": null,
      "outputs": [
        {
          "output_type": "stream",
          "name": "stdout",
          "text": [
            "<class 'pandas.core.frame.DataFrame'>\n",
            "RangeIndex: 50 entries, 0 to 49\n",
            "Data columns (total 14 columns):\n",
            " #   Column            Non-Null Count  Dtype \n",
            "---  ------            --------------  ----- \n",
            " 0   Unnamed: 0        50 non-null     int64 \n",
            " 1   Track.Name        50 non-null     object\n",
            " 2   Artist.Name       50 non-null     object\n",
            " 3   Genre             50 non-null     object\n",
            " 4   Beats.Per.Minute  50 non-null     int64 \n",
            " 5   Energy            50 non-null     int64 \n",
            " 6   Danceability      50 non-null     int64 \n",
            " 7   Loudness..dB..    50 non-null     int64 \n",
            " 8   Liveness          50 non-null     int64 \n",
            " 9   Valence.          50 non-null     int64 \n",
            " 10  Length.           50 non-null     int64 \n",
            " 11  Acousticness..    50 non-null     int64 \n",
            " 12  Speechiness.      50 non-null     int64 \n",
            " 13  Popularity        50 non-null     int64 \n",
            "dtypes: int64(11), object(3)\n",
            "memory usage: 5.6+ KB\n"
          ]
        }
      ]
    },
    {
      "cell_type": "code",
      "source": [
        "df.isnull().sum()"
      ],
      "metadata": {
        "colab": {
          "base_uri": "https://localhost:8080/"
        },
        "id": "Ccgocr0pvd3n",
        "outputId": "9285e313-ca8c-4b12-845e-c5651de71208"
      },
      "execution_count": null,
      "outputs": [
        {
          "output_type": "execute_result",
          "data": {
            "text/plain": [
              "Unnamed: 0          0\n",
              "Track.Name          0\n",
              "Artist.Name         0\n",
              "Genre               0\n",
              "Beats.Per.Minute    0\n",
              "Energy              0\n",
              "Danceability        0\n",
              "Loudness..dB..      0\n",
              "Liveness            0\n",
              "Valence.            0\n",
              "Length.             0\n",
              "Acousticness..      0\n",
              "Speechiness.        0\n",
              "Popularity          0\n",
              "dtype: int64"
            ]
          },
          "metadata": {},
          "execution_count": 58
        }
      ]
    },
    {
      "cell_type": "code",
      "source": [
        "#Find the duplicates\n",
        "\n",
        "df.duplicated().sum()"
      ],
      "metadata": {
        "colab": {
          "base_uri": "https://localhost:8080/"
        },
        "id": "9d35eFNxv283",
        "outputId": "e8c2300c-a226-453f-d6e1-7b012801766c"
      },
      "execution_count": null,
      "outputs": [
        {
          "output_type": "execute_result",
          "data": {
            "text/plain": [
              "0"
            ]
          },
          "metadata": {},
          "execution_count": 59
        }
      ]
    },
    {
      "cell_type": "code",
      "source": [
        "df.shape"
      ],
      "metadata": {
        "colab": {
          "base_uri": "https://localhost:8080/"
        },
        "id": "wuDG8ICa8IIm",
        "outputId": "764e3707-c291-4187-9bf2-2d0ff527f68e"
      },
      "execution_count": null,
      "outputs": [
        {
          "output_type": "execute_result",
          "data": {
            "text/plain": [
              "(50, 14)"
            ]
          },
          "metadata": {},
          "execution_count": 51
        }
      ]
    },
    {
      "cell_type": "code",
      "source": [
        "df.dtypes"
      ],
      "metadata": {
        "colab": {
          "base_uri": "https://localhost:8080/"
        },
        "id": "LrQYYujXuTHb",
        "outputId": "4ec6ed7a-5529-4d99-a8fb-3b65ecd80d65"
      },
      "execution_count": null,
      "outputs": [
        {
          "output_type": "execute_result",
          "data": {
            "text/plain": [
              "Unnamed: 0           int64\n",
              "Track.Name          object\n",
              "Artist.Name         object\n",
              "Genre               object\n",
              "Beats.Per.Minute     int64\n",
              "Energy               int64\n",
              "Danceability         int64\n",
              "Loudness..dB..       int64\n",
              "Liveness             int64\n",
              "Valence.             int64\n",
              "Length.              int64\n",
              "Acousticness..       int64\n",
              "Speechiness.         int64\n",
              "Popularity           int64\n",
              "dtype: object"
            ]
          },
          "metadata": {},
          "execution_count": 52
        }
      ]
    },
    {
      "cell_type": "code",
      "source": [
        "df.columns"
      ],
      "metadata": {
        "colab": {
          "base_uri": "https://localhost:8080/"
        },
        "id": "vPQFNwYT8QpY",
        "outputId": "d060adb8-10b2-4274-8c2a-c2e9b43e4288"
      },
      "execution_count": null,
      "outputs": [
        {
          "output_type": "execute_result",
          "data": {
            "text/plain": [
              "Index(['Unnamed: 0', 'Track.Name', 'Artist.Name', 'Genre', 'Beats.Per.Minute',\n",
              "       'Energy', 'Danceability', 'Loudness..dB..', 'Liveness', 'Valence.',\n",
              "       'Length.', 'Acousticness..', 'Speechiness.', 'Popularity'],\n",
              "      dtype='object')"
            ]
          },
          "metadata": {},
          "execution_count": 53
        }
      ]
    },
    {
      "cell_type": "code",
      "source": [
        "\n",
        "num_cols = df.select_dtypes(include=[\"int64\", \"float64\"]).columns.tolist()\n",
        "for col in num_cols:\n",
        "    print(f\"Distribution of {col}:\")\n",
        "    print(df[col].hist())\n",
        "    print(f\"Skewness of {col}:\", df[col].skew())\n",
        "    print(f\"Presence of outliers in {col}:\")\n",
        "    q1 = df[col].quantile(0.25)\n",
        "    q3 = df[col].quantile(0.75)\n",
        "    iqr = q3 - q1\n",
        "    lower_bound = q1 - 1.5 * iqr\n",
        "    upper_bound = q3 + 1.5 * iqr\n",
        "    outliers = df[(df[col] < lower_bound) | (df[col] > upper_bound)][col]\n",
        "    print(outliers)"
      ],
      "metadata": {
        "colab": {
          "base_uri": "https://localhost:8080/",
          "height": 1000
        },
        "id": "1F-o9hYfu5aw",
        "outputId": "a3b33afa-0e75-4cab-a284-5676865c1e52"
      },
      "execution_count": null,
      "outputs": [
        {
          "output_type": "stream",
          "name": "stdout",
          "text": [
            "Distribution of Unnamed: 0:\n",
            "AxesSubplot(0.125,0.125;0.775x0.755)\n",
            "Skewness of Unnamed: 0: 0.0\n",
            "Presence of outliers in Unnamed: 0:\n",
            "Series([], Name: Unnamed: 0, dtype: int64)\n",
            "Distribution of Beats.Per.Minute:\n",
            "AxesSubplot(0.125,0.125;0.775x0.755)\n",
            "Skewness of Beats.Per.Minute: 0.8545037279141334\n",
            "Presence of outliers in Beats.Per.Minute:\n",
            "Series([], Name: Beats.Per.Minute, dtype: int64)\n",
            "Distribution of Energy:\n",
            "AxesSubplot(0.125,0.125;0.775x0.755)\n",
            "Skewness of Energy: -0.45319939185588803\n",
            "Presence of outliers in Energy:\n",
            "Series([], Name: Energy, dtype: int64)\n",
            "Distribution of Danceability:\n",
            "AxesSubplot(0.125,0.125;0.775x0.755)\n",
            "Skewness of Danceability: -1.3798912643745826\n",
            "Presence of outliers in Danceability:\n",
            "2     40\n",
            "30    29\n",
            "Name: Danceability, dtype: int64\n",
            "Distribution of Loudness..dB..:\n",
            "AxesSubplot(0.125,0.125;0.775x0.755)\n",
            "Skewness of Loudness..dB..: -0.8319151364178049\n",
            "Presence of outliers in Loudness..dB..:\n",
            "9    -11\n",
            "24   -11\n",
            "31   -11\n",
            "Name: Loudness..dB.., dtype: int64\n",
            "Distribution of Liveness:\n",
            "AxesSubplot(0.125,0.125;0.775x0.755)\n",
            "Skewness of Liveness: 2.20393675993312\n",
            "Presence of outliers in Liveness:\n",
            "23    44\n",
            "29    36\n",
            "34    32\n",
            "37    36\n",
            "45    58\n",
            "48    41\n",
            "Name: Liveness, dtype: int64\n",
            "Distribution of Valence.:\n",
            "AxesSubplot(0.125,0.125;0.775x0.755)\n",
            "Skewness of Valence.: -0.04649042288475609\n",
            "Presence of outliers in Valence.:\n",
            "Series([], Name: Valence., dtype: int64)\n",
            "Distribution of Length.:\n",
            "AxesSubplot(0.125,0.125;0.775x0.755)\n",
            "Skewness of Length.: 0.748553781525186\n",
            "Presence of outliers in Length.:\n",
            "1     302\n",
            "13    288\n",
            "21    115\n",
            "22    309\n",
            "Name: Length., dtype: int64\n",
            "Distribution of Acousticness..:\n",
            "AxesSubplot(0.125,0.125;0.775x0.755)\n",
            "Skewness of Acousticness..: 1.1352896516083975\n",
            "Presence of outliers in Acousticness..:\n",
            "12    75\n",
            "Name: Acousticness.., dtype: int64\n",
            "Distribution of Speechiness.:\n",
            "AxesSubplot(0.125,0.125;0.775x0.755)\n",
            "Skewness of Speechiness.: 1.3775812945256767\n",
            "Presence of outliers in Speechiness.:\n",
            "2     46\n",
            "9     38\n",
            "10    31\n",
            "16    32\n",
            "31    33\n",
            "36    34\n",
            "Name: Speechiness., dtype: int64\n",
            "Distribution of Popularity:\n",
            "AxesSubplot(0.125,0.125;0.775x0.755)\n",
            "Skewness of Popularity: -1.5034337647083387\n",
            "Presence of outliers in Popularity:\n",
            "25    70\n",
            "39    78\n",
            "Name: Popularity, dtype: int64\n"
          ]
        },
        {
          "output_type": "display_data",
          "data": {
            "text/plain": [
              "<Figure size 432x288 with 1 Axes>"
            ],
            "image/png": "[encoded data removed]"
          },
          "metadata": {
            "needs_background": "light"
          }
        }
      ]
    },
    {
      "cell_type": "code",
      "source": [
        "#The column \"Unnamed: 0\" has no skewness and no outliers.\n",
        "#The column \"Beats.Per.Minute\" has a positive skewness value of 0.8545, indicating that it is skewed towards higher values. However, it has no outliers.\n",
        "#The column \"Energy\" has a negative skewness value of -0.4531, indicating that it is slightly skewed towards lower values. It also has no outliers.\n",
        "#The column \"Danceability\" has a negative skewness value of -1.3798, indicating that it is highly skewed towards lower values. It has two outliers with values 40 and 30.\n",
        "#The column \"Loudness..dB..\" has a negative skewness value of -0.8319, indicating that it is slightly skewed towards lower values. It has three outliers with values -11, 24, and 31.\n",
        "#The column \"Liveness\" has a positive skewness value of 2.2039, indicating that it is highly skewed towards higher values. It has 12 outliers with values ranging from 23 to 58.\n",
        "#The column \"Valence\" has a skewness value close to 0, indicating that it is almost symmetrical. It has no outliers.\n",
        "#The column \"Length\" has a positive skewness value of 0.7485, indicating that it is slightly skewed towards higher values. It has four outliers with values 302, 288, 115, and 309.\n",
        "#The column \"Acousticness..\" has a positive skewness value of 1.1353, indicating that it is skewed towards higher values. It has two outliers with values 12 and 75.\n",
        "#The column \"Speechiness.\" has a positive skewness value of 1.3776, indicating that it is highly skewed towards higher values. It has six outliers with values ranging from 2 to 38.\n",
        "#The column \"Popularity\" has a negative skewness value of -1.5034, indicating that it is highly skewed towards lower values. It has four outliers with values ranging from 25 to 78."
      ],
      "metadata": {
        "id": "xRaMv9NK0B7j"
      },
      "execution_count": null,
      "outputs": []
    },
    {
      "cell_type": "markdown",
      "source": [],
      "metadata": {
        "id": "-x0LSqFez_Yb"
      }
    },
    {
      "cell_type": "code",
      "source": [
        "cat_cols = df.select_dtypes(include=[\"object\"]).columns.tolist()\n",
        "for col in cat_cols:\n",
        "    print(f\"Distribution of {col}:\")\n",
        "    print(df[col].value_counts())"
      ],
      "metadata": {
        "colab": {
          "base_uri": "https://localhost:8080/"
        },
        "id": "Hr7eGAfqvEJe",
        "outputId": "4e22312d-a9a9-4da5-94ca-9d17ecdcea62"
      },
      "execution_count": null,
      "outputs": [
        {
          "output_type": "stream",
          "name": "stdout",
          "text": [
            "Distribution of Track.Name:\n",
            "Señorita                                                                1\n",
            "Antisocial (with Travis Scott)                                          1\n",
            "It's You                                                                1\n",
            "Con Calma                                                               1\n",
            "QUE PRETENDES                                                           1\n",
            "Takeaway                                                                1\n",
            "7 rings                                                                 1\n",
            "0.958333333333333                                                       1\n",
            "The London (feat. J. Cole & Travis Scott)                               1\n",
            "Never Really Over                                                       1\n",
            "Summer Days (feat. Macklemore & Patrick Stump of Fall Out Boy)          1\n",
            "Otro Trago                                                              1\n",
            "Sucker                                                                  1\n",
            "China                                                                   1\n",
            "fuck, i'm lonely (with Anne-Marie) - from 13 Reasons Why: Season 3    1\n",
            "Higher Love                                                             1\n",
            "You Need To Calm Down                                                   1\n",
            "Shallow                                                                 1\n",
            "Talk                                                                    1\n",
            "Con Altura                                                              1\n",
            "One Thing Right                                                         1\n",
            "Te Robaré                                                               1\n",
            "Happier                                                                 1\n",
            "Call You Mine                                                           1\n",
            "Dance Monkey                                                            1\n",
            "If I Can't Have You                                                     1\n",
            "bad guy (with Justin Bieber)                                            1\n",
            "Soltera - Remix                                                         1\n",
            "boyfriend (with Social House)                                           1\n",
            "Beautiful People (feat. Khalid)                                         1\n",
            "Goodbyes (Feat. Young Thug)                                             1\n",
            "I Don't Care (with Justin Bieber)                                       1\n",
            "Ransom                                                                  1\n",
            "How Do You Sleep?                                                       1\n",
            "Old Town Road - Remix                                                   1\n",
            "bad guy                                                                 1\n",
            "Callaita                                                                1\n",
            "Loco Contigo (feat. J. Balvin & Tyga)                                   1\n",
            "Someone You Loved                                                       1\n",
            "Otro Trago - Remix                                                      1\n",
            "Money In The Grave (Drake ft. Rick Ross)                                1\n",
            "No Guidance (feat. Drake)                                               1\n",
            "LA CANCIÓN                                                              1\n",
            "Sunflower - Spider-Man: Into the Spider-Verse                           1\n",
            "Lalala                                                                  1\n",
            "Truth Hurts                                                             1\n",
            "Piece Of Your Heart                                                     1\n",
            "Panini                                                                  1\n",
            "No Me Conoce - Remix                                                    1\n",
            "Cross Me (feat. Chance the Rapper & PnB Rock)                           1\n",
            "Name: Track.Name, dtype: int64\n",
            "Distribution of Artist.Name:\n",
            "Ed Sheeran          4\n",
            "Shawn Mendes        2\n",
            "Lil Nas X           2\n",
            "J Balvin            2\n",
            "Sech                2\n",
            "Billie Eilish       2\n",
            "The Chainsmokers    2\n",
            "Marshmello          2\n",
            "Post Malone         2\n",
            "Ariana Grande       2\n",
            "ROSALÍA             1\n",
            "Khalid              1\n",
            "Lady Gaga           1\n",
            "Daddy Yankee        1\n",
            "Kygo                1\n",
            "Lauv                1\n",
            "Jonas Brothers      1\n",
            "Martin Garrix       1\n",
            "Katy Perry          1\n",
            "Young Thug          1\n",
            "Maluma              1\n",
            "Taylor Swift        1\n",
            "Jhay Cortez         1\n",
            "Ali Gatie           1\n",
            "Tones and I         1\n",
            "Lunay               1\n",
            "Anuel AA            1\n",
            "MEDUZA              1\n",
            "Lizzo               1\n",
            "Y2K                 1\n",
            "Chris Brown         1\n",
            "Drake               1\n",
            "Lewis Capaldi       1\n",
            "DJ Snake            1\n",
            "Bad Bunny           1\n",
            "Sam Smith           1\n",
            "Lil Tecca           1\n",
            "Nicky Jam           1\n",
            "Name: Artist.Name, dtype: int64\n",
            "Distribution of Genre:\n",
            "dance pop           8\n",
            "pop                 7\n",
            "latin               5\n",
            "canadian hip hop    3\n",
            "edm                 3\n",
            "reggaeton           2\n",
            "reggaeton flow      2\n",
            "panamanian pop      2\n",
            "canadian pop        2\n",
            "electropop          2\n",
            "country rap         2\n",
            "dfw rap             2\n",
            "brostep             2\n",
            "trap music          1\n",
            "escape room         1\n",
            "pop house           1\n",
            "australian pop      1\n",
            "atl hip hop         1\n",
            "big room            1\n",
            "boy band            1\n",
            "r&b en espanol      1\n",
            "Name: Genre, dtype: int64\n"
          ]
        }
      ]
    },
    {
      "cell_type": "code",
      "source": [
        "# Lets do some data understanding\n",
        "df.describe()"
      ],
      "metadata": {
        "colab": {
          "base_uri": "https://localhost:8080/",
          "height": 381
        },
        "id": "-GOhcxed8WbQ",
        "outputId": "3725d099-2dbe-4181-f834-cd1ee97ed9c7"
      },
      "execution_count": null,
      "outputs": [
        {
          "output_type": "execute_result",
          "data": {
            "text/plain": [
              "       Unnamed: 0  Beats.Per.Minute     Energy  Danceability  Loudness..dB..  \\\n",
              "count    50.00000         50.000000  50.000000      50.00000       50.000000   \n",
              "mean     25.50000        120.060000  64.060000      71.38000       -5.660000   \n",
              "std      14.57738         30.898392  14.231913      11.92988        2.056448   \n",
              "min       1.00000         85.000000  32.000000      29.00000      -11.000000   \n",
              "25%      13.25000         96.000000  55.250000      67.00000       -6.750000   \n",
              "50%      25.50000        104.500000  66.500000      73.50000       -6.000000   \n",
              "75%      37.75000        137.500000  74.750000      79.75000       -4.000000   \n",
              "max      50.00000        190.000000  88.000000      90.00000       -2.000000   \n",
              "\n",
              "        Liveness   Valence.     Length.  Acousticness..  Speechiness.  \\\n",
              "count  50.000000  50.000000   50.000000       50.000000     50.000000   \n",
              "mean   14.660000  54.600000  200.960000       22.160000     12.480000   \n",
              "std    11.118306  22.336024   39.143879       18.995553     11.161596   \n",
              "min     5.000000  10.000000  115.000000        1.000000      3.000000   \n",
              "25%     8.000000  38.250000  176.750000        8.250000      5.000000   \n",
              "50%    11.000000  55.500000  198.000000       15.000000      7.000000   \n",
              "75%    15.750000  69.500000  217.500000       33.750000     15.000000   \n",
              "max    58.000000  95.000000  309.000000       75.000000     46.000000   \n",
              "\n",
              "       Popularity  \n",
              "count   50.000000  \n",
              "mean    87.500000  \n",
              "std      4.491489  \n",
              "min     70.000000  \n",
              "25%     86.000000  \n",
              "50%     88.000000  \n",
              "75%     90.750000  \n",
              "max     95.000000  "
            ],
            "text/html": [
              "\n",
              "  <div id=\"df-f3b9a6b5-c032-4ce7-b0e2-bd556ab6aa1c\">\n",
              "    <div class=\"colab-df-container\">\n",
              "      <div>\n",
              "<style scoped>\n",
              "    .dataframe tbody tr th:only-of-type {\n",
              "        vertical-align: middle;\n",
              "    }\n",
              "\n",
              "    .dataframe tbody tr th {\n",
              "        vertical-align: top;\n",
              "    }\n",
              "\n",
              "    .dataframe thead th {\n",
              "        text-align: right;\n",
              "    }\n",
              "</style>\n",
              "<table border=\"1\" class=\"dataframe\">\n",
              "  <thead>\n",
              "    <tr style=\"text-align: right;\">\n",
              "      <th></th>\n",
              "      <th>Unnamed: 0</th>\n",
              "      <th>Beats.Per.Minute</th>\n",
              "      <th>Energy</th>\n",
              "      <th>Danceability</th>\n",
              "      <th>Loudness..dB..</th>\n",
              "      <th>Liveness</th>\n",
              "      <th>Valence.</th>\n",
              "      <th>Length.</th>\n",
              "      <th>Acousticness..</th>\n",
              "      <th>Speechiness.</th>\n",
              "      <th>Popularity</th>\n",
              "    </tr>\n",
              "  </thead>\n",
              "  <tbody>\n",
              "    <tr>\n",
              "      <th>count</th>\n",
              "      <td>50.00000</td>\n",
              "      <td>50.000000</td>\n",
              "      <td>50.000000</td>\n",
              "      <td>50.00000</td>\n",
              "      <td>50.000000</td>\n",
              "      <td>50.000000</td>\n",
              "      <td>50.000000</td>\n",
              "      <td>50.000000</td>\n",
              "      <td>50.000000</td>\n",
              "      <td>50.000000</td>\n",
              "      <td>50.000000</td>\n",
              "    </tr>\n",
              "    <tr>\n",
              "      <th>mean</th>\n",
              "      <td>25.50000</td>\n",
              "      <td>120.060000</td>\n",
              "      <td>64.060000</td>\n",
              "      <td>71.38000</td>\n",
              "      <td>-5.660000</td>\n",
              "      <td>14.660000</td>\n",
              "      <td>54.600000</td>\n",
              "      <td>200.960000</td>\n",
              "      <td>22.160000</td>\n",
              "      <td>12.480000</td>\n",
              "      <td>87.500000</td>\n",
              "    </tr>\n",
              "    <tr>\n",
              "      <th>std</th>\n",
              "      <td>14.57738</td>\n",
              "      <td>30.898392</td>\n",
              "      <td>14.231913</td>\n",
              "      <td>11.92988</td>\n",
              "      <td>2.056448</td>\n",
              "      <td>11.118306</td>\n",
              "      <td>22.336024</td>\n",
              "      <td>39.143879</td>\n",
              "      <td>18.995553</td>\n",
              "      <td>11.161596</td>\n",
              "      <td>4.491489</td>\n",
              "    </tr>\n",
              "    <tr>\n",
              "      <th>min</th>\n",
              "      <td>1.00000</td>\n",
              "      <td>85.000000</td>\n",
              "      <td>32.000000</td>\n",
              "      <td>29.00000</td>\n",
              "      <td>-11.000000</td>\n",
              "      <td>5.000000</td>\n",
              "      <td>10.000000</td>\n",
              "      <td>115.000000</td>\n",
              "      <td>1.000000</td>\n",
              "      <td>3.000000</td>\n",
              "      <td>70.000000</td>\n",
              "    </tr>\n",
              "    <tr>\n",
              "      <th>25%</th>\n",
              "      <td>13.25000</td>\n",
              "      <td>96.000000</td>\n",
              "      <td>55.250000</td>\n",
              "      <td>67.00000</td>\n",
              "      <td>-6.750000</td>\n",
              "      <td>8.000000</td>\n",
              "      <td>38.250000</td>\n",
              "      <td>176.750000</td>\n",
              "      <td>8.250000</td>\n",
              "      <td>5.000000</td>\n",
              "      <td>86.000000</td>\n",
              "    </tr>\n",
              "    <tr>\n",
              "      <th>50%</th>\n",
              "      <td>25.50000</td>\n",
              "      <td>104.500000</td>\n",
              "      <td>66.500000</td>\n",
              "      <td>73.50000</td>\n",
              "      <td>-6.000000</td>\n",
              "      <td>11.000000</td>\n",
              "      <td>55.500000</td>\n",
              "      <td>198.000000</td>\n",
              "      <td>15.000000</td>\n",
              "      <td>7.000000</td>\n",
              "      <td>88.000000</td>\n",
              "    </tr>\n",
              "    <tr>\n",
              "      <th>75%</th>\n",
              "      <td>37.75000</td>\n",
              "      <td>137.500000</td>\n",
              "      <td>74.750000</td>\n",
              "      <td>79.75000</td>\n",
              "      <td>-4.000000</td>\n",
              "      <td>15.750000</td>\n",
              "      <td>69.500000</td>\n",
              "      <td>217.500000</td>\n",
              "      <td>33.750000</td>\n",
              "      <td>15.000000</td>\n",
              "      <td>90.750000</td>\n",
              "    </tr>\n",
              "    <tr>\n",
              "      <th>max</th>\n",
              "      <td>50.00000</td>\n",
              "      <td>190.000000</td>\n",
              "      <td>88.000000</td>\n",
              "      <td>90.00000</td>\n",
              "      <td>-2.000000</td>\n",
              "      <td>58.000000</td>\n",
              "      <td>95.000000</td>\n",
              "      <td>309.000000</td>\n",
              "      <td>75.000000</td>\n",
              "      <td>46.000000</td>\n",
              "      <td>95.000000</td>\n",
              "    </tr>\n",
              "  </tbody>\n",
              "</table>\n",
              "</div>\n",
              "      <button class=\"colab-df-convert\" onclick=\"convertToInteractive('df-f3b9a6b5-c032-4ce7-b0e2-bd556ab6aa1c')\"\n",
              "              title=\"Convert this dataframe to an interactive table.\"\n",
              "              style=\"display:none;\">\n",
              "        \n",
              "  <svg xmlns=\"http://www.w3.org/2000/svg\" height=\"24px\"viewBox=\"0 0 24 24\"\n",
              "       width=\"24px\">\n",
              "    <path d=\"M0 0h24v24H0V0z\" fill=\"none\"/>\n",
              "    <path d=\"M18.56 5.44l.94 2.06.94-2.06 2.06-.94-2.06-.94-.94-2.06-.94 2.06-2.06.94zm-11 1L8.5 8.5l.94-2.06 2.06-.94-2.06-.94L8.5 2.5l-.94 2.06-2.06.94zm10 10l.94 2.06.94-2.06 2.06-.94-2.06-.94-.94-2.06-.94 2.06-2.06.94z\"/><path d=\"M17.41 7.96l-1.37-1.37c-.4-.4-.92-.59-1.43-.59-.52 0-1.04.2-1.43.59L10.3 9.45l-7.72 7.72c-.78.78-.78 2.05 0 2.83L4 21.41c.39.39.9.59 1.41.59.51 0 1.02-.2 1.41-.59l7.78-7.78 2.81-2.81c.8-.78.8-2.07 0-2.86zM5.41 20L4 18.59l7.72-7.72 1.47 1.35L5.41 20z\"/>\n",
              "  </svg>\n",
              "      </button>\n",
              "      \n",
              "  <style>\n",
              "    .colab-df-container {\n",
              "      display:flex;\n",
              "      flex-wrap:wrap;\n",
              "      gap: 12px;\n",
              "    }\n",
              "\n",
              "    .colab-df-convert {\n",
              "      background-color: #E8F0FE;\n",
              "      border: none;\n",
              "      border-radius: 50%;\n",
              "      cursor: pointer;\n",
              "      display: none;\n",
              "      fill: #1967D2;\n",
              "      height: 32px;\n",
              "      padding: 0 0 0 0;\n",
              "      width: 32px;\n",
              "    }\n",
              "\n",
              "    .colab-df-convert:hover {\n",
              "      background-color: #E2EBFA;\n",
              "      box-shadow: 0px 1px 2px rgba(60, 64, 67, 0.3), 0px 1px 3px 1px rgba(60, 64, 67, 0.15);\n",
              "      fill: #174EA6;\n",
              "    }\n",
              "\n",
              "    [theme=dark] .colab-df-convert {\n",
              "      background-color: #3B4455;\n",
              "      fill: #D2E3FC;\n",
              "    }\n",
              "\n",
              "    [theme=dark] .colab-df-convert:hover {\n",
              "      background-color: #434B5C;\n",
              "      box-shadow: 0px 1px 3px 1px rgba(0, 0, 0, 0.15);\n",
              "      filter: drop-shadow(0px 1px 2px rgba(0, 0, 0, 0.3));\n",
              "      fill: #FFFFFF;\n",
              "    }\n",
              "  </style>\n",
              "\n",
              "      <script>\n",
              "        const buttonEl =\n",
              "          document.querySelector('#df-f3b9a6b5-c032-4ce7-b0e2-bd556ab6aa1c button.colab-df-convert');\n",
              "        buttonEl.style.display =\n",
              "          google.colab.kernel.accessAllowed ? 'block' : 'none';\n",
              "\n",
              "        async function convertToInteractive(key) {\n",
              "          const element = document.querySelector('#df-f3b9a6b5-c032-4ce7-b0e2-bd556ab6aa1c');\n",
              "          const dataTable =\n",
              "            await google.colab.kernel.invokeFunction('convertToInteractive',\n",
              "                                                     [key], {});\n",
              "          if (!dataTable) return;\n",
              "\n",
              "          const docLinkHtml = 'Like what you see? Visit the ' +\n",
              "            '<a target=\"_blank\" href=https://colab.research.google.com/notebooks/data_table.ipynb>data table notebook</a>'\n",
              "            + ' to learn more about interactive tables.';\n",
              "          element.innerHTML = '';\n",
              "          dataTable['output_type'] = 'display_data';\n",
              "          await google.colab.output.renderOutput(dataTable, element);\n",
              "          const docLink = document.createElement('div');\n",
              "          docLink.innerHTML = docLinkHtml;\n",
              "          element.appendChild(docLink);\n",
              "        }\n",
              "      </script>\n",
              "    </div>\n",
              "  </div>\n",
              "  "
            ]
          },
          "metadata": {},
          "execution_count": 57
        }
      ]
    },
    {
      "cell_type": "code",
      "source": [
        "#Correlation\n",
        "\n",
        "df.corr()"
      ],
      "metadata": {
        "colab": {
          "base_uri": "https://localhost:8080/",
          "height": 476
        },
        "id": "IXStZvxYwedZ",
        "outputId": "402a839e-5ffd-41db-9551-4b2ba80805d9"
      },
      "execution_count": null,
      "outputs": [
        {
          "output_type": "execute_result",
          "data": {
            "text/plain": [
              "                  Unnamed: 0  Beats.Per.Minute    Energy  Danceability  \\\n",
              "Unnamed: 0          1.000000         -0.259193  0.102649      0.122691   \n",
              "Beats.Per.Minute   -0.259193          1.000000  0.043756     -0.094183   \n",
              "Energy              0.102649          0.043756  1.000000      0.018254   \n",
              "Danceability        0.122691         -0.094183  0.018254      1.000000   \n",
              "Loudness..dB..      0.011914          0.017016  0.670794      0.016255   \n",
              "Liveness            0.270659         -0.167286  0.162768     -0.149636   \n",
              "Valence.            0.137329         -0.011586  0.438820      0.172829   \n",
              "Length.            -0.065844         -0.139288  0.224677     -0.000185   \n",
              "Acousticness..     -0.015993         -0.031450 -0.339892     -0.098165   \n",
              "Speechiness.       -0.257506          0.557052 -0.089860     -0.103472   \n",
              "Popularity         -0.160680          0.196097 -0.080295     -0.071413   \n",
              "\n",
              "                  Loudness..dB..  Liveness  Valence.   Length.  \\\n",
              "Unnamed: 0              0.011914  0.270659  0.137329 -0.065844   \n",
              "Beats.Per.Minute        0.017016 -0.167286 -0.011586 -0.139288   \n",
              "Energy                  0.670794  0.162768  0.438820  0.224677   \n",
              "Danceability            0.016255 -0.149636  0.172829 -0.000185   \n",
              "Loudness..dB..          1.000000  0.258652  0.237614  0.219219   \n",
              "Liveness                0.258652  1.000000  0.016123  0.131782   \n",
              "Valence.                0.237614  0.016123  1.000000 -0.017782   \n",
              "Length.                 0.219219  0.131782 -0.017782  1.000000   \n",
              "Acousticness..         -0.138300  0.021328 -0.052323 -0.076293   \n",
              "Speechiness.           -0.272213 -0.125286 -0.053242  0.046755   \n",
              "Popularity             -0.043085  0.092564 -0.317752 -0.087639   \n",
              "\n",
              "                  Acousticness..  Speechiness.  Popularity  \n",
              "Unnamed: 0             -0.015993     -0.257506   -0.160680  \n",
              "Beats.Per.Minute       -0.031450      0.557052    0.196097  \n",
              "Energy                 -0.339892     -0.089860   -0.080295  \n",
              "Danceability           -0.098165     -0.103472   -0.071413  \n",
              "Loudness..dB..         -0.138300     -0.272213   -0.043085  \n",
              "Liveness                0.021328     -0.125286    0.092564  \n",
              "Valence.               -0.052323     -0.053242   -0.317752  \n",
              "Length.                -0.076293      0.046755   -0.087639  \n",
              "Acousticness..          1.000000      0.008293   -0.034684  \n",
              "Speechiness.            0.008293      1.000000    0.238553  \n",
              "Popularity             -0.034684      0.238553    1.000000  "
            ],
            "text/html": [
              "\n",
              "  <div id=\"df-3a551363-8f4c-4c2c-85b5-49a4596298bc\">\n",
              "    <div class=\"colab-df-container\">\n",
              "      <div>\n",
              "<style scoped>\n",
              "    .dataframe tbody tr th:only-of-type {\n",
              "        vertical-align: middle;\n",
              "    }\n",
              "\n",
              "    .dataframe tbody tr th {\n",
              "        vertical-align: top;\n",
              "    }\n",
              "\n",
              "    .dataframe thead th {\n",
              "        text-align: right;\n",
              "    }\n",
              "</style>\n",
              "<table border=\"1\" class=\"dataframe\">\n",
              "  <thead>\n",
              "    <tr style=\"text-align: right;\">\n",
              "      <th></th>\n",
              "      <th>Unnamed: 0</th>\n",
              "      <th>Beats.Per.Minute</th>\n",
              "      <th>Energy</th>\n",
              "      <th>Danceability</th>\n",
              "      <th>Loudness..dB..</th>\n",
              "      <th>Liveness</th>\n",
              "      <th>Valence.</th>\n",
              "      <th>Length.</th>\n",
              "      <th>Acousticness..</th>\n",
              "      <th>Speechiness.</th>\n",
              "      <th>Popularity</th>\n",
              "    </tr>\n",
              "  </thead>\n",
              "  <tbody>\n",
              "    <tr>\n",
              "      <th>Unnamed: 0</th>\n",
              "      <td>1.000000</td>\n",
              "      <td>-0.259193</td>\n",
              "      <td>0.102649</td>\n",
              "      <td>0.122691</td>\n",
              "      <td>0.011914</td>\n",
              "      <td>0.270659</td>\n",
              "      <td>0.137329</td>\n",
              "      <td>-0.065844</td>\n",
              "      <td>-0.015993</td>\n",
              "      <td>-0.257506</td>\n",
              "      <td>-0.160680</td>\n",
              "    </tr>\n",
              "    <tr>\n",
              "      <th>Beats.Per.Minute</th>\n",
              "      <td>-0.259193</td>\n",
              "      <td>1.000000</td>\n",
              "      <td>0.043756</td>\n",
              "      <td>-0.094183</td>\n",
              "      <td>0.017016</td>\n",
              "      <td>-0.167286</td>\n",
              "      <td>-0.011586</td>\n",
              "      <td>-0.139288</td>\n",
              "      <td>-0.031450</td>\n",
              "      <td>0.557052</td>\n",
              "      <td>0.196097</td>\n",
              "    </tr>\n",
              "    <tr>\n",
              "      <th>Energy</th>\n",
              "      <td>0.102649</td>\n",
              "      <td>0.043756</td>\n",
              "      <td>1.000000</td>\n",
              "      <td>0.018254</td>\n",
              "      <td>0.670794</td>\n",
              "      <td>0.162768</td>\n",
              "      <td>0.438820</td>\n",
              "      <td>0.224677</td>\n",
              "      <td>-0.339892</td>\n",
              "      <td>-0.089860</td>\n",
              "      <td>-0.080295</td>\n",
              "    </tr>\n",
              "    <tr>\n",
              "      <th>Danceability</th>\n",
              "      <td>0.122691</td>\n",
              "      <td>-0.094183</td>\n",
              "      <td>0.018254</td>\n",
              "      <td>1.000000</td>\n",
              "      <td>0.016255</td>\n",
              "      <td>-0.149636</td>\n",
              "      <td>0.172829</td>\n",
              "      <td>-0.000185</td>\n",
              "      <td>-0.098165</td>\n",
              "      <td>-0.103472</td>\n",
              "      <td>-0.071413</td>\n",
              "    </tr>\n",
              "    <tr>\n",
              "      <th>Loudness..dB..</th>\n",
              "      <td>0.011914</td>\n",
              "      <td>0.017016</td>\n",
              "      <td>0.670794</td>\n",
              "      <td>0.016255</td>\n",
              "      <td>1.000000</td>\n",
              "      <td>0.258652</td>\n",
              "      <td>0.237614</td>\n",
              "      <td>0.219219</td>\n",
              "      <td>-0.138300</td>\n",
              "      <td>-0.272213</td>\n",
              "      <td>-0.043085</td>\n",
              "    </tr>\n",
              "    <tr>\n",
              "      <th>Liveness</th>\n",
              "      <td>0.270659</td>\n",
              "      <td>-0.167286</td>\n",
              "      <td>0.162768</td>\n",
              "      <td>-0.149636</td>\n",
              "      <td>0.258652</td>\n",
              "      <td>1.000000</td>\n",
              "      <td>0.016123</td>\n",
              "      <td>0.131782</td>\n",
              "      <td>0.021328</td>\n",
              "      <td>-0.125286</td>\n",
              "      <td>0.092564</td>\n",
              "    </tr>\n",
              "    <tr>\n",
              "      <th>Valence.</th>\n",
              "      <td>0.137329</td>\n",
              "      <td>-0.011586</td>\n",
              "      <td>0.438820</td>\n",
              "      <td>0.172829</td>\n",
              "      <td>0.237614</td>\n",
              "      <td>0.016123</td>\n",
              "      <td>1.000000</td>\n",
              "      <td>-0.017782</td>\n",
              "      <td>-0.052323</td>\n",
              "      <td>-0.053242</td>\n",
              "      <td>-0.317752</td>\n",
              "    </tr>\n",
              "    <tr>\n",
              "      <th>Length.</th>\n",
              "      <td>-0.065844</td>\n",
              "      <td>-0.139288</td>\n",
              "      <td>0.224677</td>\n",
              "      <td>-0.000185</td>\n",
              "      <td>0.219219</td>\n",
              "      <td>0.131782</td>\n",
              "      <td>-0.017782</td>\n",
              "      <td>1.000000</td>\n",
              "      <td>-0.076293</td>\n",
              "      <td>0.046755</td>\n",
              "      <td>-0.087639</td>\n",
              "    </tr>\n",
              "    <tr>\n",
              "      <th>Acousticness..</th>\n",
              "      <td>-0.015993</td>\n",
              "      <td>-0.031450</td>\n",
              "      <td>-0.339892</td>\n",
              "      <td>-0.098165</td>\n",
              "      <td>-0.138300</td>\n",
              "      <td>0.021328</td>\n",
              "      <td>-0.052323</td>\n",
              "      <td>-0.076293</td>\n",
              "      <td>1.000000</td>\n",
              "      <td>0.008293</td>\n",
              "      <td>-0.034684</td>\n",
              "    </tr>\n",
              "    <tr>\n",
              "      <th>Speechiness.</th>\n",
              "      <td>-0.257506</td>\n",
              "      <td>0.557052</td>\n",
              "      <td>-0.089860</td>\n",
              "      <td>-0.103472</td>\n",
              "      <td>-0.272213</td>\n",
              "      <td>-0.125286</td>\n",
              "      <td>-0.053242</td>\n",
              "      <td>0.046755</td>\n",
              "      <td>0.008293</td>\n",
              "      <td>1.000000</td>\n",
              "      <td>0.238553</td>\n",
              "    </tr>\n",
              "    <tr>\n",
              "      <th>Popularity</th>\n",
              "      <td>-0.160680</td>\n",
              "      <td>0.196097</td>\n",
              "      <td>-0.080295</td>\n",
              "      <td>-0.071413</td>\n",
              "      <td>-0.043085</td>\n",
              "      <td>0.092564</td>\n",
              "      <td>-0.317752</td>\n",
              "      <td>-0.087639</td>\n",
              "      <td>-0.034684</td>\n",
              "      <td>0.238553</td>\n",
              "      <td>1.000000</td>\n",
              "    </tr>\n",
              "  </tbody>\n",
              "</table>\n",
              "</div>\n",
              "      <button class=\"colab-df-convert\" onclick=\"convertToInteractive('df-3a551363-8f4c-4c2c-85b5-49a4596298bc')\"\n",
              "              title=\"Convert this dataframe to an interactive table.\"\n",
              "              style=\"display:none;\">\n",
              "        \n",
              "  <svg xmlns=\"http://www.w3.org/2000/svg\" height=\"24px\"viewBox=\"0 0 24 24\"\n",
              "       width=\"24px\">\n",
              "    <path d=\"M0 0h24v24H0V0z\" fill=\"none\"/>\n",
              "    <path d=\"M18.56 5.44l.94 2.06.94-2.06 2.06-.94-2.06-.94-.94-2.06-.94 2.06-2.06.94zm-11 1L8.5 8.5l.94-2.06 2.06-.94-2.06-.94L8.5 2.5l-.94 2.06-2.06.94zm10 10l.94 2.06.94-2.06 2.06-.94-2.06-.94-.94-2.06-.94 2.06-2.06.94z\"/><path d=\"M17.41 7.96l-1.37-1.37c-.4-.4-.92-.59-1.43-.59-.52 0-1.04.2-1.43.59L10.3 9.45l-7.72 7.72c-.78.78-.78 2.05 0 2.83L4 21.41c.39.39.9.59 1.41.59.51 0 1.02-.2 1.41-.59l7.78-7.78 2.81-2.81c.8-.78.8-2.07 0-2.86zM5.41 20L4 18.59l7.72-7.72 1.47 1.35L5.41 20z\"/>\n",
              "  </svg>\n",
              "      </button>\n",
              "      \n",
              "  <style>\n",
              "    .colab-df-container {\n",
              "      display:flex;\n",
              "      flex-wrap:wrap;\n",
              "      gap: 12px;\n",
              "    }\n",
              "\n",
              "    .colab-df-convert {\n",
              "      background-color: #E8F0FE;\n",
              "      border: none;\n",
              "      border-radius: 50%;\n",
              "      cursor: pointer;\n",
              "      display: none;\n",
              "      fill: #1967D2;\n",
              "      height: 32px;\n",
              "      padding: 0 0 0 0;\n",
              "      width: 32px;\n",
              "    }\n",
              "\n",
              "    .colab-df-convert:hover {\n",
              "      background-color: #E2EBFA;\n",
              "      box-shadow: 0px 1px 2px rgba(60, 64, 67, 0.3), 0px 1px 3px 1px rgba(60, 64, 67, 0.15);\n",
              "      fill: #174EA6;\n",
              "    }\n",
              "\n",
              "    [theme=dark] .colab-df-convert {\n",
              "      background-color: #3B4455;\n",
              "      fill: #D2E3FC;\n",
              "    }\n",
              "\n",
              "    [theme=dark] .colab-df-convert:hover {\n",
              "      background-color: #434B5C;\n",
              "      box-shadow: 0px 1px 3px 1px rgba(0, 0, 0, 0.15);\n",
              "      filter: drop-shadow(0px 1px 2px rgba(0, 0, 0, 0.3));\n",
              "      fill: #FFFFFF;\n",
              "    }\n",
              "  </style>\n",
              "\n",
              "      <script>\n",
              "        const buttonEl =\n",
              "          document.querySelector('#df-3a551363-8f4c-4c2c-85b5-49a4596298bc button.colab-df-convert');\n",
              "        buttonEl.style.display =\n",
              "          google.colab.kernel.accessAllowed ? 'block' : 'none';\n",
              "\n",
              "        async function convertToInteractive(key) {\n",
              "          const element = document.querySelector('#df-3a551363-8f4c-4c2c-85b5-49a4596298bc');\n",
              "          const dataTable =\n",
              "            await google.colab.kernel.invokeFunction('convertToInteractive',\n",
              "                                                     [key], {});\n",
              "          if (!dataTable) return;\n",
              "\n",
              "          const docLinkHtml = 'Like what you see? Visit the ' +\n",
              "            '<a target=\"_blank\" href=https://colab.research.google.com/notebooks/data_table.ipynb>data table notebook</a>'\n",
              "            + ' to learn more about interactive tables.';\n",
              "          element.innerHTML = '';\n",
              "          dataTable['output_type'] = 'display_data';\n",
              "          await google.colab.output.renderOutput(dataTable, element);\n",
              "          const docLink = document.createElement('div');\n",
              "          docLink.innerHTML = docLinkHtml;\n",
              "          element.appendChild(docLink);\n",
              "        }\n",
              "      </script>\n",
              "    </div>\n",
              "  </div>\n",
              "  "
            ]
          },
          "metadata": {},
          "execution_count": 61
        }
      ]
    },
    {
      "cell_type": "code",
      "source": [
        "\n",
        "#Based on the distribution of the track name, it seems that the list includes some of the most popular songs from 2019, such as \"Señorita,\" \"Bad Guy,\" \"7 Rings,\" and \"Old Town Road.\" It also includes a mix of different genres, including pop, Latin, EDM, and hip-hop.\n",
        "\n",
        "#Looking at the distribution of the artist names, we can see that Ed Sheeran, Shawn Mendes, Lil Nas X, J Balvin, Sech, and Billie Eilish each have multiple entries on the list. This suggests that they were some of the most popular artists of 2019.\n",
        "\n",
        "#Finally, the distribution of genres shows that dance pop and pop were the most popular genres, with Latin music and Canadian hip hop also being represented. Overall, this list provides a snapshot of the most popular music and artists of 2019, and the variety of genres represented highlights the diversity of music that was popular during that time."
      ],
      "metadata": {
        "id": "1OKKKfqv_OS8"
      },
      "execution_count": null,
      "outputs": []
    },
    {
      "cell_type": "code",
      "source": [
        "# Lets do some data visulization through Pandas"
      ],
      "metadata": {
        "id": "utXr4XABB-_B"
      },
      "execution_count": null,
      "outputs": []
    },
    {
      "cell_type": "code",
      "source": [
        "df['Beats.Per.Minute'].plot.hist()"
      ],
      "metadata": {
        "colab": {
          "base_uri": "https://localhost:8080/",
          "height": 282
        },
        "id": "Na84qWuKDmGt",
        "outputId": "cb7cf4fc-db14-4b40-bd47-a7ac4460b91d"
      },
      "execution_count": null,
      "outputs": [
        {
          "output_type": "execute_result",
          "data": {
            "text/plain": [
              "<AxesSubplot:ylabel='Frequency'>"
            ]
          },
          "metadata": {},
          "execution_count": 32
        },
        {
          "output_type": "display_data",
          "data": {
            "text/plain": [
              "<Figure size 432x288 with 1 Axes>"
            ],
            "image/png": "[encoded data removed]"
          },
          "metadata": {
            "needs_background": "light"
          }
        }
      ]
    },
    {
      "cell_type": "code",
      "source": [
        "#the distribution appears to be skewed to the right, with more songs having higher BPM values. Additionally, there appears to be a relatively wide range of BPM values, with songs ranging from around 90 BPM to 180 BPM."
      ],
      "metadata": {
        "id": "3cVKwb-TDGpm"
      },
      "execution_count": null,
      "outputs": []
    },
    {
      "cell_type": "code",
      "source": [
        "df['Energy'].plot.hist()"
      ],
      "metadata": {
        "colab": {
          "base_uri": "https://localhost:8080/",
          "height": 282
        },
        "id": "09e1CBp5Dh6H",
        "outputId": "a141dde6-b34e-47c2-9782-e6a8da719e17"
      },
      "execution_count": null,
      "outputs": [
        {
          "output_type": "execute_result",
          "data": {
            "text/plain": [
              "<AxesSubplot:ylabel='Frequency'>"
            ]
          },
          "metadata": {},
          "execution_count": 86
        },
        {
          "output_type": "display_data",
          "data": {
            "text/plain": [
              "<Figure size 432x288 with 1 Axes>"
            ],
            "image/png": "[encoded data removed]"
          },
          "metadata": {
            "needs_background": "light"
          }
        }
      ]
    },
    {
      "cell_type": "code",
      "source": [
        "\n",
        "#The distribution of the Energy variable is somewhat skewed to the right, as there are fewer observations for lower energy levels and more observations for higher energy levels.\n",
        "\n",
        "#Additionally,the most common energy levels are in the range of 70 to 85, with 80 being the most common energy level. You can also see that the energy level of 65 has a high frequency, which means that there are many songs in the dataset with this energy level. Finally, you can see that there are few songs with an energy level of 30, 50, and 85."
      ],
      "metadata": {
        "id": "t2qR90hXEcy7"
      },
      "execution_count": null,
      "outputs": []
    },
    {
      "cell_type": "code",
      "source": [
        "df.Danceability.plot.hist()"
      ],
      "metadata": {
        "colab": {
          "base_uri": "https://localhost:8080/",
          "height": 282
        },
        "id": "FFrySCrZCyUe",
        "outputId": "1fd447c1-e9ce-4779-d25a-9a03ab9a9b8f"
      },
      "execution_count": null,
      "outputs": [
        {
          "output_type": "execute_result",
          "data": {
            "text/plain": [
              "<AxesSubplot:ylabel='Frequency'>"
            ]
          },
          "metadata": {},
          "execution_count": 33
        },
        {
          "output_type": "display_data",
          "data": {
            "text/plain": [
              "<Figure size 432x288 with 1 Axes>"
            ],
            "image/png": "[encoded data removed]"
          },
          "metadata": {
            "needs_background": "light"
          }
        }
      ]
    },
    {
      "cell_type": "code",
      "source": [
        "\n",
        "#The range of danceability values in the dataset is between approximately 30 to 90.The majority of the songs have a danceability score between 70 and 80, with a peak at 75.The number of songs with lower danceability scores (less than 60) is relatively small.The number of songs with higher danceability scores (greater than 80) is also relatively small.\n",
        "\n",
        "#Overall, we can see that the distribution of danceability scores is somewhat skewed to the right, with the majority of songs having scores in the 70-80 range. This suggests that danceability is an important feature for many popular songs, but there is still some variety in the dataset."
      ],
      "metadata": {
        "id": "4ADMvfsvFr38"
      },
      "execution_count": null,
      "outputs": []
    },
    {
      "cell_type": "code",
      "source": [
        "df['Loudness..dB..'].plot.hist()"
      ],
      "metadata": {
        "colab": {
          "base_uri": "https://localhost:8080/",
          "height": 282
        },
        "id": "wKAHLPy85054",
        "outputId": "5438d602-ee4d-43dd-a77a-a51e064b6297"
      },
      "execution_count": null,
      "outputs": [
        {
          "output_type": "execute_result",
          "data": {
            "text/plain": [
              "<AxesSubplot:ylabel='Frequency'>"
            ]
          },
          "metadata": {},
          "execution_count": 75
        },
        {
          "output_type": "display_data",
          "data": {
            "text/plain": [
              "<Figure size 432x288 with 1 Axes>"
            ],
            "image/png": "[encoded data removed]"
          },
          "metadata": {
            "needs_background": "light"
          }
        }
      ]
    },
    {
      "cell_type": "code",
      "source": [
        "#The data seems to be skewed to the right, with most values concentrated between -7 and -4 dB. There are a few outliers on the left side of the histogram (around -15 dB), indicating some songs with very low loudness. The majority of the data falls within a relatively narrow range, with only a few songs having very high loudness levels."
      ],
      "metadata": {
        "id": "gGOMIDEUG1uw"
      },
      "execution_count": null,
      "outputs": []
    },
    {
      "cell_type": "code",
      "source": [
        "df['Liveness'].plot.hist()"
      ],
      "metadata": {
        "colab": {
          "base_uri": "https://localhost:8080/",
          "height": 282
        },
        "id": "yRYAeNcO6inJ",
        "outputId": "150c0812-8aed-47de-cdd7-4144174a7f67"
      },
      "execution_count": null,
      "outputs": [
        {
          "output_type": "execute_result",
          "data": {
            "text/plain": [
              "<AxesSubplot:ylabel='Frequency'>"
            ]
          },
          "metadata": {},
          "execution_count": 76
        },
        {
          "output_type": "display_data",
          "data": {
            "text/plain": [
              "<Figure size 432x288 with 1 Axes>"
            ],
            "image/png": "[encoded data removed]"
          },
          "metadata": {
            "needs_background": "light"
          }
        }
      ]
    },
    {
      "cell_type": "code",
      "source": [
        "#The majority of the values fall within the range of 3-10, with a total count of 25.\n",
        "#The range of 10-15 has the second highest count with 15 values, followed by 15-20 with only 5 values.\n",
        "#The ranges of 20-25, 32-38, 38-48, and 52-59 each have only one or a few values, indicating that these values are much less common"
      ],
      "metadata": {
        "id": "ym-7qVMXIt5F"
      },
      "execution_count": null,
      "outputs": []
    },
    {
      "cell_type": "code",
      "source": [
        "df['Valence.'].plot.hist()"
      ],
      "metadata": {
        "colab": {
          "base_uri": "https://localhost:8080/",
          "height": 282
        },
        "id": "9wVQysfO6p5I",
        "outputId": "ccfed316-8c4f-4e1a-ed44-03bdd4189664"
      },
      "execution_count": null,
      "outputs": [
        {
          "output_type": "execute_result",
          "data": {
            "text/plain": [
              "<AxesSubplot:ylabel='Frequency'>"
            ]
          },
          "metadata": {},
          "execution_count": 77
        },
        {
          "output_type": "display_data",
          "data": {
            "text/plain": [
              "<Figure size 432x288 with 1 Axes>"
            ],
            "image/png": "[encoded data removed]"
          },
          "metadata": {
            "needs_background": "light"
          }
        }
      ]
    },
    {
      "cell_type": "code",
      "source": [
        "#Based on the histogram result, we can notice that the majority of the songs in the dataset have a valence score between 60-70. Additionally, we can see that there are relatively few songs with a valence score below 30 or above 80.\n",
        "#This suggests that most songs in the dataset are generally perceived as having a moderate to high level of positivity, with few songs having extremely negative or extremely positive valence scores."
      ],
      "metadata": {
        "id": "OAlPBR5PH_0g"
      },
      "execution_count": null,
      "outputs": []
    },
    {
      "cell_type": "code",
      "source": [
        "df['Length.'].plot.hist()"
      ],
      "metadata": {
        "colab": {
          "base_uri": "https://localhost:8080/",
          "height": 282
        },
        "id": "5JI1of0m6vbz",
        "outputId": "0257b2a6-3a14-4e28-89da-e13422494c81"
      },
      "execution_count": null,
      "outputs": [
        {
          "output_type": "execute_result",
          "data": {
            "text/plain": [
              "<AxesSubplot:ylabel='Frequency'>"
            ]
          },
          "metadata": {},
          "execution_count": 78
        },
        {
          "output_type": "display_data",
          "data": {
            "text/plain": [
              "<Figure size 432x288 with 1 Axes>"
            ],
            "image/png": "[encoded data removed]"
          },
          "metadata": {
            "needs_background": "light"
          }
        }
      ]
    },
    {
      "cell_type": "code",
      "source": [
        "df['Acousticness..'].plot.hist()"
      ],
      "metadata": {
        "colab": {
          "base_uri": "https://localhost:8080/",
          "height": 282
        },
        "id": "EbPeN3_e6zOZ",
        "outputId": "fd4a81e7-ee18-4f1d-8fef-a813a5f7e740"
      },
      "execution_count": null,
      "outputs": [
        {
          "output_type": "execute_result",
          "data": {
            "text/plain": [
              "<AxesSubplot:ylabel='Frequency'>"
            ]
          },
          "metadata": {},
          "execution_count": 79
        },
        {
          "output_type": "display_data",
          "data": {
            "text/plain": [
              "<Figure size 432x288 with 1 Axes>"
            ],
            "image/png": "[encoded data removed]"
          },
          "metadata": {
            "needs_background": "light"
          }
        }
      ]
    },
    {
      "cell_type": "code",
      "source": [
        "#Looking at the result, we can see that the majority of the songs have an acousticness score between 1 and 22.\n",
        "#There are a few songs with higher scores, but they are in the minority."
      ],
      "metadata": {
        "id": "Aq9QyQ90KgAx"
      },
      "execution_count": null,
      "outputs": []
    },
    {
      "cell_type": "code",
      "source": [
        "df['Speechiness.'].plot.hist()..."
      ],
      "metadata": {
        "colab": {
          "base_uri": "https://localhost:8080/",
          "height": 282
        },
        "id": "ddEV_W9f64HE",
        "outputId": "c60f4106-d62d-454c-d297-0870b3b85b4f"
      },
      "execution_count": null,
      "outputs": [
        {
          "output_type": "execute_result",
          "data": {
            "text/plain": [
              "<AxesSubplot:ylabel='Frequency'>"
            ]
          },
          "metadata": {},
          "execution_count": 80
        },
        {
          "output_type": "display_data",
          "data": {
            "text/plain": [
              "<Figure size 432x288 with 1 Axes>"
            ],
            "image/png": "[encoded data removed]"
          },
          "metadata": {
            "needs_background": "light"
          }
        }
      ]
    },
    {
      "cell_type": "code",
      "source": [
        "#The majority of the data points fall within the range of 2-7 and have a higher speechiness value.\n",
        "#There are also a few data points in the range of 7-11 and 11-16, but they are relatively lower in number compared to the first range.\n",
        "#There is only one data point in the range of 33-47, indicating that there are very few songs with a very high speechiness value."
      ],
      "metadata": {
        "id": "TJ74PjcSLFKr"
      },
      "execution_count": null,
      "outputs": []
    },
    {
      "cell_type": "code",
      "source": [
        "df['Popularity'].plot.hist()"
      ],
      "metadata": {
        "colab": {
          "base_uri": "https://localhost:8080/",
          "height": 282
        },
        "id": "u_jmDQdU69kH",
        "outputId": "e2a43817-909f-42f6-d899-e67d030057a3"
      },
      "execution_count": null,
      "outputs": [
        {
          "output_type": "execute_result",
          "data": {
            "text/plain": [
              "<AxesSubplot:ylabel='Frequency'>"
            ]
          },
          "metadata": {},
          "execution_count": 81
        },
        {
          "output_type": "display_data",
          "data": {
            "text/plain": [
              "<Figure size 432x288 with 1 Axes>"
            ],
            "image/png": "[encoded data removed]"
          },
          "metadata": {
            "needs_background": "light"
          }
        }
      ]
    },
    {
      "cell_type": "code",
      "source": [
        "#The data shows the frequency distribution of the 'Popularity' column in the dataframe.\n",
        "#It seems that the majority of the songs have a popularity score between 85 and 90, with some having a score between 80 and 85 or 90 and 93.\n",
        "#Only a few songs have a score outside of this range."
      ],
      "metadata": {
        "id": "Q3U7E7cnNFQd"
      },
      "execution_count": null,
      "outputs": []
    },
    {
      "cell_type": "code",
      "source": [
        "df['Beats.Per.Minute'].plot.box()"
      ],
      "metadata": {
        "colab": {
          "base_uri": "https://localhost:8080/",
          "height": 282
        },
        "id": "jyL9DP9HEfg5",
        "outputId": "f18fa170-be57-4135-8707-b7c389d06433"
      },
      "execution_count": null,
      "outputs": [
        {
          "output_type": "execute_result",
          "data": {
            "text/plain": [
              "<AxesSubplot:>"
            ]
          },
          "metadata": {},
          "execution_count": 35
        },
        {
          "output_type": "display_data",
          "data": {
            "text/plain": [
              "<Figure size 432x288 with 1 Axes>"
            ],
            "image/png": "[encoded data removed]"
          },
          "metadata": {
            "needs_background": "light"
          }
        }
      ]
    },
    {
      "cell_type": "code",
      "source": [
        "df.Energy.plot.box()"
      ],
      "metadata": {
        "colab": {
          "base_uri": "https://localhost:8080/",
          "height": 284
        },
        "id": "mEEpxfkNELQr",
        "outputId": "32f4f542-fa1a-4ef6-b0ed-65a301dd3cb5"
      },
      "execution_count": null,
      "outputs": [
        {
          "output_type": "execute_result",
          "data": {
            "text/plain": [
              "<AxesSubplot:>"
            ]
          },
          "metadata": {},
          "execution_count": 34
        },
        {
          "output_type": "display_data",
          "data": {
            "text/plain": [
              "<Figure size 432x288 with 1 Axes>"
            ],
            "image/png": "[encoded data removed]"
          },
          "metadata": {
            "needs_background": "light"
          }
        }
      ]
    },
    {
      "cell_type": "code",
      "source": [
        "df.Danceability.plot.box()"
      ],
      "metadata": {
        "colab": {
          "base_uri": "https://localhost:8080/",
          "height": 282
        },
        "id": "u4a8anjvEi0y",
        "outputId": "db9d6697-904d-4152-91b0-69f1876e3670"
      },
      "execution_count": null,
      "outputs": [
        {
          "output_type": "execute_result",
          "data": {
            "text/plain": [
              "<AxesSubplot:>"
            ]
          },
          "metadata": {},
          "execution_count": 36
        },
        {
          "output_type": "display_data",
          "data": {
            "text/plain": [
              "<Figure size 432x288 with 1 Axes>"
            ],
            "image/png": "[encoded data removed]"
          },
          "metadata": {
            "needs_background": "light"
          }
        }
      ]
    },
    {
      "cell_type": "code",
      "source": [
        "df['Loudness..dB..'].plot.box()"
      ],
      "metadata": {
        "colab": {
          "base_uri": "https://localhost:8080/",
          "height": 282
        },
        "id": "ksNAnfTHOb8J",
        "outputId": "4bfb702e-939d-49e2-cc75-4408d1385f58"
      },
      "execution_count": null,
      "outputs": [
        {
          "output_type": "execute_result",
          "data": {
            "text/plain": [
              "<AxesSubplot:>"
            ]
          },
          "metadata": {},
          "execution_count": 99
        },
        {
          "output_type": "display_data",
          "data": {
            "text/plain": [
              "<Figure size 432x288 with 1 Axes>"
            ],
            "image/png": "[encoded data removed]"
          },
          "metadata": {
            "needs_background": "light"
          }
        }
      ]
    },
    {
      "cell_type": "code",
      "source": [
        "df['Liveness'].plot.box()"
      ],
      "metadata": {
        "colab": {
          "base_uri": "https://localhost:8080/",
          "height": 284
        },
        "id": "G5U9Jm2XOwGp",
        "outputId": "07b0a8ea-980f-4c86-87c1-2dceef3c338b"
      },
      "execution_count": null,
      "outputs": [
        {
          "output_type": "execute_result",
          "data": {
            "text/plain": [
              "<AxesSubplot:>"
            ]
          },
          "metadata": {},
          "execution_count": 100
        },
        {
          "output_type": "display_data",
          "data": {
            "text/plain": [
              "<Figure size 432x288 with 1 Axes>"
            ],
            "image/png": "[encoded data removed]"
          },
          "metadata": {
            "needs_background": "light"
          }
        }
      ]
    },
    {
      "cell_type": "code",
      "source": [
        "#It is highly skewed, there are quiet a lot of extreme values"
      ],
      "metadata": {
        "id": "MBaNu-u4ROFD"
      },
      "execution_count": null,
      "outputs": []
    },
    {
      "cell_type": "code",
      "source": [
        "df['Valence.'].plot.box()"
      ],
      "metadata": {
        "colab": {
          "base_uri": "https://localhost:8080/",
          "height": 282
        },
        "id": "srBi8skdO3K1",
        "outputId": "defa068a-2b8e-4d4d-93ca-249bae7e3eea"
      },
      "execution_count": null,
      "outputs": [
        {
          "output_type": "execute_result",
          "data": {
            "text/plain": [
              "<AxesSubplot:>"
            ]
          },
          "metadata": {},
          "execution_count": 101
        },
        {
          "output_type": "display_data",
          "data": {
            "text/plain": [
              "<Figure size 432x288 with 1 Axes>"
            ],
            "image/png": "[encoded data removed]"
          },
          "metadata": {
            "needs_background": "light"
          }
        }
      ]
    },
    {
      "cell_type": "code",
      "source": [
        "df['Length.'].plot.box()"
      ],
      "metadata": {
        "colab": {
          "base_uri": "https://localhost:8080/",
          "height": 282
        },
        "id": "5KaDdkVQO8PU",
        "outputId": "c55d65ab-b986-459d-8683-6acbe7d3faa7"
      },
      "execution_count": null,
      "outputs": [
        {
          "output_type": "execute_result",
          "data": {
            "text/plain": [
              "<AxesSubplot:>"
            ]
          },
          "metadata": {},
          "execution_count": 102
        },
        {
          "output_type": "display_data",
          "data": {
            "text/plain": [
              "<Figure size 432x288 with 1 Axes>"
            ],
            "image/png": "[encoded data removed]"
          },
          "metadata": {
            "needs_background": "light"
          }
        }
      ]
    },
    {
      "cell_type": "code",
      "source": [
        "df['Acousticness..'].plot.box()"
      ],
      "metadata": {
        "colab": {
          "base_uri": "https://localhost:8080/",
          "height": 282
        },
        "id": "Iawp0B6mPBW2",
        "outputId": "767b4ff1-5dd9-4d3d-d338-29c161d60f64"
      },
      "execution_count": null,
      "outputs": [
        {
          "output_type": "execute_result",
          "data": {
            "text/plain": [
              "<AxesSubplot:>"
            ]
          },
          "metadata": {},
          "execution_count": 103
        },
        {
          "output_type": "display_data",
          "data": {
            "text/plain": [
              "<Figure size 432x288 with 1 Axes>"
            ],
            "image/png": "[encoded data removed]"
          },
          "metadata": {
            "needs_background": "light"
          }
        }
      ]
    },
    {
      "cell_type": "code",
      "source": [
        "df['Speechiness.'].plot.box()"
      ],
      "metadata": {
        "colab": {
          "base_uri": "https://localhost:8080/",
          "height": 282
        },
        "id": "gO3oCHRjPGba",
        "outputId": "71b1abe1-c9d8-41c5-9d36-16db75801e9f"
      },
      "execution_count": null,
      "outputs": [
        {
          "output_type": "execute_result",
          "data": {
            "text/plain": [
              "<AxesSubplot:>"
            ]
          },
          "metadata": {},
          "execution_count": 104
        },
        {
          "output_type": "display_data",
          "data": {
            "text/plain": [
              "<Figure size 432x288 with 1 Axes>"
            ],
            "image/png": "[encoded data removed]"
          },
          "metadata": {
            "needs_background": "light"
          }
        }
      ]
    },
    {
      "cell_type": "code",
      "source": [
        "#It has many outliers."
      ],
      "metadata": {
        "id": "rtqAk2cPQtNz"
      },
      "execution_count": null,
      "outputs": []
    },
    {
      "cell_type": "code",
      "source": [
        "df['Popularity'].plot.box()"
      ],
      "metadata": {
        "colab": {
          "base_uri": "https://localhost:8080/",
          "height": 282
        },
        "id": "X0K8P3tSPLKV",
        "outputId": "cf139b17-4dfd-4644-d108-cf63a9c244bf"
      },
      "execution_count": null,
      "outputs": [
        {
          "output_type": "execute_result",
          "data": {
            "text/plain": [
              "<AxesSubplot:>"
            ]
          },
          "metadata": {},
          "execution_count": 105
        },
        {
          "output_type": "display_data",
          "data": {
            "text/plain": [
              "<Figure size 432x288 with 1 Axes>"
            ],
            "image/png": "[encoded data removed]"
          },
          "metadata": {
            "needs_background": "light"
          }
        }
      ]
    },
    {
      "cell_type": "code",
      "source": [
        "df.plot.scatter(x='Energy', y='Danceability')"
      ],
      "metadata": {
        "colab": {
          "base_uri": "https://localhost:8080/",
          "height": 314
        },
        "id": "I4ZrZUgzF2tT",
        "outputId": "50739610-69dd-4225-ce55-ee80a7283899"
      },
      "execution_count": null,
      "outputs": [
        {
          "output_type": "execute_result",
          "data": {
            "text/plain": [
              "<AxesSubplot:xlabel='Energy', ylabel='Danceability'>"
            ]
          },
          "metadata": {},
          "execution_count": 111
        },
        {
          "output_type": "display_data",
          "data": {
            "text/plain": [
              "<Figure size 432x288 with 1 Axes>"
            ],
            "image/png": "[encoded data removed]"
          },
          "metadata": {
            "needs_background": "light"
          }
        }
      ]
    },
    {
      "cell_type": "code",
      "source": [
        "#Both are close together.\n",
        "#Thus the high energy song has the potential to be danceable."
      ],
      "metadata": {
        "id": "By0xBbo9jl7H"
      },
      "execution_count": null,
      "outputs": []
    }
  ]
}